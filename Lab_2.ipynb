{
  "nbformat": 4,
  "nbformat_minor": 0,
  "metadata": {
    "colab": {
      "name": "Lab #2",
      "provenance": [],
      "include_colab_link": true
    },
    "kernelspec": {
      "name": "python3",
      "display_name": "Python 3"
    }
  },
  "cells": [
    {
      "cell_type": "markdown",
      "metadata": {
        "id": "view-in-github",
        "colab_type": "text"
      },
      "source": [
        "<a href=\"https://colab.research.google.com/github/nzs5424/SRA268/blob/master/Lab_2.ipynb\" target=\"_parent\"><img src=\"https://colab.research.google.com/assets/colab-badge.svg\" alt=\"Open In Colab\"/></a>"
      ]
    },
    {
      "cell_type": "markdown",
      "metadata": {
        "id": "6sOc4Uyr4U-Z",
        "colab_type": "text"
      },
      "source": [
        "## Graph Types"
      ]
    },
    {
      "cell_type": "markdown",
      "metadata": {
        "id": "Tj-StVv2DfJh",
        "colab_type": "text"
      },
      "source": [
        ""
      ]
    },
    {
      "cell_type": "markdown",
      "metadata": {
        "id": "0zZdVLAd5CYr",
        "colab_type": "text"
      },
      "source": [
        "Creator\n",
        "* Noah Schaffer"
      ]
    },
    {
      "cell_type": "markdown",
      "metadata": {
        "id": "g-r6Clq45Hn4",
        "colab_type": "text"
      },
      "source": [
        "### Deviation\n"
      ]
    },
    {
      "cell_type": "markdown",
      "metadata": {
        "id": "2gorxo6E7A0t",
        "colab_type": "text"
      },
      "source": [
        "![alt text](https://raw.githubusercontent.com/nzs5424/SRA268/master/Folder/Images/Screen%20Shot%202020-02-21%20at%209.08.35%20PM.png)"
      ]
    },
    {
      "cell_type": "markdown",
      "metadata": {
        "id": "w6bZ_NEi7E3w",
        "colab_type": "text"
      },
      "source": [
        "#### What is this telling us?"
      ]
    },
    {
      "cell_type": "markdown",
      "metadata": {
        "id": "95L-spaC7QHF",
        "colab_type": "text"
      },
      "source": [
        "My deviation graph looks at the win points and loss points for the wins of each region during March Madness. Deviation graphs focus on variation using a fixed point, and for my graph that point was 0. The number of both win and loss points were very similar throughout all four regions. I was expecting them to be close, but not quite as close as they were. Region Y had the most win points out of the four regions with 41,101, but it also had the most loss points as well with 34,963. Every region has more win points than loss points."
      ]
    },
    {
      "cell_type": "markdown",
      "metadata": {
        "id": "YgXyXjmz7cDP",
        "colab_type": "text"
      },
      "source": [
        "### Correlation\n"
      ]
    },
    {
      "cell_type": "markdown",
      "metadata": {
        "id": "SGx15rZq7hvt",
        "colab_type": "text"
      },
      "source": [
        "![alt text](https://raw.githubusercontent.com/nzs5424/SRA268/master/Folder/Images/Screen%20Shot%202020-02-21%20at%209.08.57%20PM.png)"
      ]
    },
    {
      "cell_type": "markdown",
      "metadata": {
        "id": "dljjONNi7jmj",
        "colab_type": "text"
      },
      "source": [
        "#### What is this telling us?"
      ]
    },
    {
      "cell_type": "markdown",
      "metadata": {
        "id": "PwZEZrFB7laG",
        "colab_type": "text"
      },
      "source": [
        "My correlation graph is a scatter plot that focuses on the relationship between the win points and win seed for the winning mascots during March Madness. Although there are some outliers shown, the majority of the recorded data on the scatter plot is in the lower left quadrant, meaning low numbers for both the win seed and the win points. When studying and analyzing the plot you are able to tell that the variables win seed and win points have a positive correlation, even though it isn't quite the strongest. I would say that this scatter plot turned out similar to what I imagined, although I didn't anticipate there would be as many ponits as there are near the 0 mark."
      ]
    },
    {
      "cell_type": "markdown",
      "metadata": {
        "id": "MqUdI-uL7r2s",
        "colab_type": "text"
      },
      "source": [
        "### Ranking\n"
      ]
    },
    {
      "cell_type": "markdown",
      "metadata": {
        "id": "AvlxCOVt7x9F",
        "colab_type": "text"
      },
      "source": [
        "![alt text](https://raw.githubusercontent.com/nzs5424/SRA268/master/Folder/Images/Screen%20Shot%202020-02-21%20at%209.09.32%20PM.png)"
      ]
    },
    {
      "cell_type": "markdown",
      "metadata": {
        "id": "lCAYtfza7yTq",
        "colab_type": "text"
      },
      "source": [
        "#### What is this telling us?"
      ]
    },
    {
      "cell_type": "markdown",
      "metadata": {
        "id": "MyuciD277ygU",
        "colab_type": "text"
      },
      "source": [
        "Ranking graphs are used to highlight the positioning and values of data relative to one another, which is why I made the decision to use a bar graph. The bar graph above shows the number of overtime games played for the winners from all four regions of March Madness. All four of the regions were relatively close to one another, but regions Y and Z were tied for the most overtime games played with 39 each. Region X brings up the rear with 33 overtime games, only being 2 games behind region W which had 35 games go to overtime. "
      ]
    },
    {
      "cell_type": "markdown",
      "metadata": {
        "id": "dGDGl8-G7y8Y",
        "colab_type": "text"
      },
      "source": [
        "### Distribution\n"
      ]
    },
    {
      "cell_type": "markdown",
      "metadata": {
        "id": "FB0uV-jy76p9",
        "colab_type": "text"
      },
      "source": [
        "![alt text](https://raw.githubusercontent.com/nzs5424/SRA268/master/Folder/Images/Screen%20Shot%202020-02-21%20at%209.14.41%20PM.png)"
      ]
    },
    {
      "cell_type": "markdown",
      "metadata": {
        "id": "_6SOzhrQ76zH",
        "colab_type": "text"
      },
      "source": [
        "#### What is this telling us?"
      ]
    },
    {
      "cell_type": "markdown",
      "metadata": {
        "id": "HBWqsS_g767h",
        "colab_type": "text"
      },
      "source": [
        "For my distribution graph I decided to use a box and whisker plot. This particular box plot that I constructed looks at the relationship between the mascots of winning march madness teams and the winning seed. Through creating this graph I was able to learn a lot of information relating to these two variables. The median for the box plot is listed at 52, with the upper and lower quartiles being 116 and 28 respectively. The highest recorded point was 642 and the lowest recorded point was 4, making the range for this dataset 638. This range is honestly a lot higher than I expected it to be before I made the graph."
      ]
    },
    {
      "cell_type": "markdown",
      "metadata": {
        "id": "wQsDThk677Fy",
        "colab_type": "text"
      },
      "source": [
        "### Change over Time\n"
      ]
    },
    {
      "cell_type": "markdown",
      "metadata": {
        "id": "Z1j_YLOA7_OK",
        "colab_type": "text"
      },
      "source": [
        "![alt text](https://raw.githubusercontent.com/nzs5424/SRA268/master/Folder/Images/Screen%20Shot%202020-02-21%20at%209.15.05%20PM.png)"
      ]
    },
    {
      "cell_type": "markdown",
      "metadata": {
        "id": "mpfsmmgi7_Vj",
        "colab_type": "text"
      },
      "source": [
        "#### What is this telling us?"
      ]
    },
    {
      "cell_type": "markdown",
      "metadata": {
        "id": "rYLXoMMO7_di",
        "colab_type": "text"
      },
      "source": [
        "Because the purpose of change over time graphs is to show trends in data I decided to use a line graph. My line graph looks at the relationship between the year and the number of overtime games played. points on the line graph are fairly spaced out with pretty much constant jagged up and down movement. The highest number of overtime games played in a single year was seven, which occured in 6 different years over the course of 1982-2016. The lowest amount of overtime games that we saw in a year was 1. This occurred in 2011, 2012, and 2016."
      ]
    },
    {
      "cell_type": "markdown",
      "metadata": {
        "id": "lFwiHoE-7_jZ",
        "colab_type": "text"
      },
      "source": [
        "### Magnitude\n"
      ]
    },
    {
      "cell_type": "markdown",
      "metadata": {
        "id": "ICQFnXj78EbF",
        "colab_type": "text"
      },
      "source": [
        "![alt text](https://raw.githubusercontent.com/nzs5424/SRA268/master/Folder/Images/Screen%20Shot%202020-02-21%20at%209.15.19%20PM.png)"
      ]
    },
    {
      "cell_type": "markdown",
      "metadata": {
        "id": "QGG7XYG88Eii",
        "colab_type": "text"
      },
      "source": [
        "#### What is this telling us?"
      ]
    },
    {
      "cell_type": "markdown",
      "metadata": {
        "id": "VS7uGa0l8Eos",
        "colab_type": "text"
      },
      "source": [
        "Magnitude graphs are used to show comparisons in data that is bunched together or \"binned\". I created a double bar graph that compared binned values of win points and loss points for the winners from the four regions of march madness. This is similar to the graph that I created for deviation, however in my opinion the double bar graph makes it easier to interpret this information and look at the relationship between the binned data. In all four of the regions the amount of win points was greater than the amonut of lose points, and only region W failed to eclipse 40,000 win points."
      ]
    },
    {
      "cell_type": "markdown",
      "metadata": {
        "id": "bEKFxP8R8Evk",
        "colab_type": "text"
      },
      "source": [
        "### Part-to-Whole\n"
      ]
    },
    {
      "cell_type": "markdown",
      "metadata": {
        "id": "WFHlcYKV8E35",
        "colab_type": "text"
      },
      "source": [
        "![alt text](https://raw.githubusercontent.com/nzs5424/SRA268/master/Folder/Images/Screen%20Shot%202020-02-21%20at%209.15.29%20PM.png)"
      ]
    },
    {
      "cell_type": "markdown",
      "metadata": {
        "id": "PNSd3wlp8UZH",
        "colab_type": "text"
      },
      "source": [
        "#### What is this telling us?"
      ]
    },
    {
      "cell_type": "markdown",
      "metadata": {
        "id": "y9tb_QRA8aqt",
        "colab_type": "text"
      },
      "source": [
        "For my part-to-whole graph I decided it would be my best option to construct a pie chart. This pie chart shows the relationship between the sum of the game round numbers and the winning tax class. Animalia was the tax bracket that tallied the most rounds, so naturally it takes up the majority of the pie chart. The rest of the chart is split up into 9 smaller sections that didn't have nearly as many total rounds as Animalia. Part-to-whole graphs are used to create a clear and complete picture, and that is exactly what I feel this pie chart did with the data provided."
      ]
    }
  ]
}