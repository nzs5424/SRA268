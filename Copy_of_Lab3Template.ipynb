{
  "nbformat": 4,
  "nbformat_minor": 0,
  "metadata": {
    "colab": {
      "name": "Copy of Lab3Template.ipynb",
      "provenance": [],
      "include_colab_link": true
    },
    "kernelspec": {
      "name": "python3",
      "display_name": "Python 3"
    }
  },
  "cells": [
    {
      "cell_type": "markdown",
      "metadata": {
        "id": "view-in-github",
        "colab_type": "text"
      },
      "source": [
        "<a href=\"https://colab.research.google.com/github/nzs5424/SRA268/blob/master/Copy_of_Lab3Template.ipynb\" target=\"_parent\"><img src=\"https://colab.research.google.com/assets/colab-badge.svg\" alt=\"Open In Colab\"/></a>"
      ]
    },
    {
      "cell_type": "markdown",
      "metadata": {
        "id": "6sOc4Uyr4U-Z",
        "colab_type": "text"
      },
      "source": [
        "### COVID-19 Cases by Country Animation"
      ]
    },
    {
      "cell_type": "markdown",
      "metadata": {
        "id": "0zZdVLAd5CYr",
        "colab_type": "text"
      },
      "source": [
        "Creator\n",
        "* Noah Schaffer\n"
      ]
    },
    {
      "cell_type": "markdown",
      "metadata": {
        "id": "g-r6Clq45Hn4",
        "colab_type": "text"
      },
      "source": [
        "# Coronavirus - John Hopkins Data\n",
        "\n",
        "All data is from Novel Coronavirus (COVID-19) Cases, provided by Johns Hopkins CSSE - [Johns Hopkins GitHub](https://github.com/CSSEGISandData/COVID-19)"
      ]
    },
    {
      "cell_type": "markdown",
      "metadata": {
        "id": "DzdQp_6I-37o",
        "colab_type": "text"
      },
      "source": [
        "![alt text](https://raw.githubusercontent.com/nzs5424/SRA268/master/Folder/Images/Screen%20Shot%202020-04-03%20at%205.33.18%20PM.png)"
      ]
    }
  ]
}