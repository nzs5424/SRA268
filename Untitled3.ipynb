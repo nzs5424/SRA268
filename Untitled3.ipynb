{
  "nbformat": 4,
  "nbformat_minor": 0,
  "metadata": {
    "colab": {
      "name": "Untitled3.ipynb",
      "provenance": [],
      "authorship_tag": "ABX9TyNX6AattbZD3KSvfyRkcfqM",
      "include_colab_link": true
    },
    "kernelspec": {
      "name": "python3",
      "display_name": "Python 3"
    }
  },
  "cells": [
    {
      "cell_type": "markdown",
      "metadata": {
        "id": "view-in-github",
        "colab_type": "text"
      },
      "source": [
        "<a href=\"https://colab.research.google.com/github/nzs5424/SRA268/blob/master/Untitled3.ipynb\" target=\"_parent\"><img src=\"https://colab.research.google.com/assets/colab-badge.svg\" alt=\"Open In Colab\"/></a>"
      ]
    },
    {
      "cell_type": "markdown",
      "metadata": {
        "id": "7ctu9P3OcyZg",
        "colab_type": "text"
      },
      "source": [
        "#### 1. Are the Summers getting Hotter?"
      ]
    },
    {
      "cell_type": "markdown",
      "metadata": {
        "id": "_QyY4wLDdx-S",
        "colab_type": "text"
      },
      "source": [
        "### 2. Outline\n",
        "In order to determine if the temperature in the summer is increasing from year to year I have decided to record the temperatures from July fourth to July eighth in 2017, 2018, and 2019 and observe the changes. From there I created a line graph to better display the data."
      ]
    },
    {
      "cell_type": "markdown",
      "metadata": {
        "id": "9MG6R6BXfV61",
        "colab_type": "text"
      },
      "source": [
        "### 3. Sketch\n",
        "![alt text](https://raw.githubusercontent.com/nzs5424/SRA268/master/Folder/Images/IMG_2037.JPG)"
      ]
    },
    {
      "cell_type": "markdown",
      "metadata": {
        "id": "8kc5QAywl9tZ",
        "colab_type": "text"
      },
      "source": [
        "### 4. Outline\n",
        "After plotting the data and surveying the patterns and differnces I've come to the conclusion that the summers are getting hotter. Although 2018 had the hottest single-day temperature, the temperatures were hotter overall in 2019 than both 2018 and 2017. The lowest single-day temperature was 71 degrees, and took place in 2017."
      ]
    }
  ]
}